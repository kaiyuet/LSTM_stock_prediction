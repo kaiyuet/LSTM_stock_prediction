{
  "nbformat": 4,
  "nbformat_minor": 0,
  "metadata": {
    "colab": {
      "provenance": []
    },
    "kernelspec": {
      "name": "python3",
      "display_name": "Python 3"
    },
    "language_info": {
      "name": "python"
    }
  },
  "cells": [
    {
      "cell_type": "code",
      "execution_count": 45,
      "metadata": {
        "id": "AqH6BKQ2WiU6"
      },
      "outputs": [],
      "source": [
        "import tensorflow as tf\n",
        "from tensorflow.keras.layers import Input, LSTM, GRU, SimpleRNN, Dense, GlobalMaxPool1D\n",
        "from tensorflow.keras.models import Model\n",
        "from tensorflow.keras.optimizers import SGD, Adam\n"
      ]
    },
    {
      "cell_type": "code",
      "source": [
        "import numpy as np\n",
        "import pandas as pd\n",
        "import matplotlib.pyplot as plt\n",
        "from sklearn.preprocessing import StandardScaler"
      ],
      "metadata": {
        "id": "P7Yp_gr8WxV9"
      },
      "execution_count": 46,
      "outputs": []
    },
    {
      "cell_type": "code",
      "source": [
        "df = pd.read_csv('data2.csv')"
      ],
      "metadata": {
        "id": "B-8y-iIpXSgJ"
      },
      "execution_count": 47,
      "outputs": []
    },
    {
      "cell_type": "code",
      "source": [
        "df.head()"
      ],
      "metadata": {
        "colab": {
          "base_uri": "https://localhost:8080/",
          "height": 206
        },
        "id": "JgbdcdXOXvz8",
        "outputId": "dfde5e60-e2af-4170-82c3-2d76229a976e"
      },
      "execution_count": null,
      "outputs": [
        {
          "output_type": "execute_result",
          "data": {
            "text/plain": [
              "         date    open    high     low   close   volume  Name\n",
              "0  2013-02-08  27.920  28.325  27.920  28.185  7146296  SBUX\n",
              "1  2013-02-11  28.260  28.260  27.930  28.070  5457354  SBUX\n",
              "2  2013-02-12  28.000  28.275  27.975  28.130  8665592  SBUX\n",
              "3  2013-02-13  28.230  28.230  27.750  27.915  7022056  SBUX\n",
              "4  2013-02-14  27.765  27.905  27.675  27.775  8899188  SBUX"
            ],
            "text/html": [
              "\n",
              "  <div id=\"df-4d9343b8-3534-4b0d-ae06-f03ff00140de\">\n",
              "    <div class=\"colab-df-container\">\n",
              "      <div>\n",
              "<style scoped>\n",
              "    .dataframe tbody tr th:only-of-type {\n",
              "        vertical-align: middle;\n",
              "    }\n",
              "\n",
              "    .dataframe tbody tr th {\n",
              "        vertical-align: top;\n",
              "    }\n",
              "\n",
              "    .dataframe thead th {\n",
              "        text-align: right;\n",
              "    }\n",
              "</style>\n",
              "<table border=\"1\" class=\"dataframe\">\n",
              "  <thead>\n",
              "    <tr style=\"text-align: right;\">\n",
              "      <th></th>\n",
              "      <th>date</th>\n",
              "      <th>open</th>\n",
              "      <th>high</th>\n",
              "      <th>low</th>\n",
              "      <th>close</th>\n",
              "      <th>volume</th>\n",
              "      <th>Name</th>\n",
              "    </tr>\n",
              "  </thead>\n",
              "  <tbody>\n",
              "    <tr>\n",
              "      <th>0</th>\n",
              "      <td>2013-02-08</td>\n",
              "      <td>27.920</td>\n",
              "      <td>28.325</td>\n",
              "      <td>27.920</td>\n",
              "      <td>28.185</td>\n",
              "      <td>7146296</td>\n",
              "      <td>SBUX</td>\n",
              "    </tr>\n",
              "    <tr>\n",
              "      <th>1</th>\n",
              "      <td>2013-02-11</td>\n",
              "      <td>28.260</td>\n",
              "      <td>28.260</td>\n",
              "      <td>27.930</td>\n",
              "      <td>28.070</td>\n",
              "      <td>5457354</td>\n",
              "      <td>SBUX</td>\n",
              "    </tr>\n",
              "    <tr>\n",
              "      <th>2</th>\n",
              "      <td>2013-02-12</td>\n",
              "      <td>28.000</td>\n",
              "      <td>28.275</td>\n",
              "      <td>27.975</td>\n",
              "      <td>28.130</td>\n",
              "      <td>8665592</td>\n",
              "      <td>SBUX</td>\n",
              "    </tr>\n",
              "    <tr>\n",
              "      <th>3</th>\n",
              "      <td>2013-02-13</td>\n",
              "      <td>28.230</td>\n",
              "      <td>28.230</td>\n",
              "      <td>27.750</td>\n",
              "      <td>27.915</td>\n",
              "      <td>7022056</td>\n",
              "      <td>SBUX</td>\n",
              "    </tr>\n",
              "    <tr>\n",
              "      <th>4</th>\n",
              "      <td>2013-02-14</td>\n",
              "      <td>27.765</td>\n",
              "      <td>27.905</td>\n",
              "      <td>27.675</td>\n",
              "      <td>27.775</td>\n",
              "      <td>8899188</td>\n",
              "      <td>SBUX</td>\n",
              "    </tr>\n",
              "  </tbody>\n",
              "</table>\n",
              "</div>\n",
              "      <button class=\"colab-df-convert\" onclick=\"convertToInteractive('df-4d9343b8-3534-4b0d-ae06-f03ff00140de')\"\n",
              "              title=\"Convert this dataframe to an interactive table.\"\n",
              "              style=\"display:none;\">\n",
              "        \n",
              "  <svg xmlns=\"http://www.w3.org/2000/svg\" height=\"24px\"viewBox=\"0 0 24 24\"\n",
              "       width=\"24px\">\n",
              "    <path d=\"M0 0h24v24H0V0z\" fill=\"none\"/>\n",
              "    <path d=\"M18.56 5.44l.94 2.06.94-2.06 2.06-.94-2.06-.94-.94-2.06-.94 2.06-2.06.94zm-11 1L8.5 8.5l.94-2.06 2.06-.94-2.06-.94L8.5 2.5l-.94 2.06-2.06.94zm10 10l.94 2.06.94-2.06 2.06-.94-2.06-.94-.94-2.06-.94 2.06-2.06.94z\"/><path d=\"M17.41 7.96l-1.37-1.37c-.4-.4-.92-.59-1.43-.59-.52 0-1.04.2-1.43.59L10.3 9.45l-7.72 7.72c-.78.78-.78 2.05 0 2.83L4 21.41c.39.39.9.59 1.41.59.51 0 1.02-.2 1.41-.59l7.78-7.78 2.81-2.81c.8-.78.8-2.07 0-2.86zM5.41 20L4 18.59l7.72-7.72 1.47 1.35L5.41 20z\"/>\n",
              "  </svg>\n",
              "      </button>\n",
              "      \n",
              "  <style>\n",
              "    .colab-df-container {\n",
              "      display:flex;\n",
              "      flex-wrap:wrap;\n",
              "      gap: 12px;\n",
              "    }\n",
              "\n",
              "    .colab-df-convert {\n",
              "      background-color: #E8F0FE;\n",
              "      border: none;\n",
              "      border-radius: 50%;\n",
              "      cursor: pointer;\n",
              "      display: none;\n",
              "      fill: #1967D2;\n",
              "      height: 32px;\n",
              "      padding: 0 0 0 0;\n",
              "      width: 32px;\n",
              "    }\n",
              "\n",
              "    .colab-df-convert:hover {\n",
              "      background-color: #E2EBFA;\n",
              "      box-shadow: 0px 1px 2px rgba(60, 64, 67, 0.3), 0px 1px 3px 1px rgba(60, 64, 67, 0.15);\n",
              "      fill: #174EA6;\n",
              "    }\n",
              "\n",
              "    [theme=dark] .colab-df-convert {\n",
              "      background-color: #3B4455;\n",
              "      fill: #D2E3FC;\n",
              "    }\n",
              "\n",
              "    [theme=dark] .colab-df-convert:hover {\n",
              "      background-color: #434B5C;\n",
              "      box-shadow: 0px 1px 3px 1px rgba(0, 0, 0, 0.15);\n",
              "      filter: drop-shadow(0px 1px 2px rgba(0, 0, 0, 0.3));\n",
              "      fill: #FFFFFF;\n",
              "    }\n",
              "  </style>\n",
              "\n",
              "      <script>\n",
              "        const buttonEl =\n",
              "          document.querySelector('#df-4d9343b8-3534-4b0d-ae06-f03ff00140de button.colab-df-convert');\n",
              "        buttonEl.style.display =\n",
              "          google.colab.kernel.accessAllowed ? 'block' : 'none';\n",
              "\n",
              "        async function convertToInteractive(key) {\n",
              "          const element = document.querySelector('#df-4d9343b8-3534-4b0d-ae06-f03ff00140de');\n",
              "          const dataTable =\n",
              "            await google.colab.kernel.invokeFunction('convertToInteractive',\n",
              "                                                     [key], {});\n",
              "          if (!dataTable) return;\n",
              "\n",
              "          const docLinkHtml = 'Like what you see? Visit the ' +\n",
              "            '<a target=\"_blank\" href=https://colab.research.google.com/notebooks/data_table.ipynb>data table notebook</a>'\n",
              "            + ' to learn more about interactive tables.';\n",
              "          element.innerHTML = '';\n",
              "          dataTable['output_type'] = 'display_data';\n",
              "          await google.colab.output.renderOutput(dataTable, element);\n",
              "          const docLink = document.createElement('div');\n",
              "          docLink.innerHTML = docLinkHtml;\n",
              "          element.appendChild(docLink);\n",
              "        }\n",
              "      </script>\n",
              "    </div>\n",
              "  </div>\n",
              "  "
            ]
          },
          "metadata": {},
          "execution_count": 18
        }
      ]
    },
    {
      "cell_type": "code",
      "source": [],
      "metadata": {
        "id": "vHJlrb-7TJLn"
      },
      "execution_count": 47,
      "outputs": []
    },
    {
      "cell_type": "code",
      "source": [
        "series = df['close'].values.reshape(-1, 1)\n",
        "# series = df['close'].values\n"
      ],
      "metadata": {
        "id": "it5eZEhXXwNK"
      },
      "execution_count": 48,
      "outputs": []
    },
    {
      "cell_type": "code",
      "source": [
        "series.shape"
      ],
      "metadata": {
        "colab": {
          "base_uri": "https://localhost:8080/"
        },
        "id": "Hlype7s6pwr7",
        "outputId": "a626544f-4d1f-415a-e337-55bde2611915"
      },
      "execution_count": 49,
      "outputs": [
        {
          "output_type": "execute_result",
          "data": {
            "text/plain": [
              "(1259, 1)"
            ]
          },
          "metadata": {},
          "execution_count": 49
        }
      ]
    },
    {
      "cell_type": "code",
      "source": [
        "scaler = StandardScaler()\n",
        "scaler.fit(series[:len(series) // 2])\n",
        "series = scaler.transform(series).flatten()"
      ],
      "metadata": {
        "id": "bzRnP6h6Ygag"
      },
      "execution_count": 50,
      "outputs": []
    },
    {
      "cell_type": "code",
      "source": [
        "series.shape"
      ],
      "metadata": {
        "colab": {
          "base_uri": "https://localhost:8080/"
        },
        "id": "QeB03Pq3qzBh",
        "outputId": "0dc54f40-a70e-44b5-9655-4e0cddeb045a"
      },
      "execution_count": 51,
      "outputs": [
        {
          "output_type": "execute_result",
          "data": {
            "text/plain": [
              "(1259,)"
            ]
          },
          "metadata": {},
          "execution_count": 51
        }
      ]
    },
    {
      "cell_type": "code",
      "source": [
        "T = 10\n",
        "D = 1\n",
        "X = []\n",
        "Y = []\n",
        "\n",
        "for t in range(len(series)-T):\n",
        "  X.append(series[t: t+T])\n",
        "  Y.append(series[t+T])\n",
        "\n",
        "X = np.array(X).reshape(-1, T, 1)\n",
        "Y = np.array(Y)\n"
      ],
      "metadata": {
        "id": "QxAk-HGjYhHN"
      },
      "execution_count": 52,
      "outputs": []
    },
    {
      "cell_type": "code",
      "source": [
        "i = Input(shape=(T, 1))\n",
        "#x = LSTM(3, return_sequences = True)(i)\n",
        "x = LSTM(5, return_sequences = True)(i)\n",
        "x = LSTM(7)(x)\n",
        "x = Dense(1)(x)\n",
        "model = Model(i, x)\n",
        "model.compile(\n",
        "    loss='mse', \n",
        "    optimizer=Adam(lr=0.1)\n",
        ")"
      ],
      "metadata": {
        "colab": {
          "base_uri": "https://localhost:8080/"
        },
        "id": "QK1ZsLAcbOql",
        "outputId": "87969d5b-5755-47a0-df85-1639fca102c7"
      },
      "execution_count": 53,
      "outputs": [
        {
          "output_type": "stream",
          "name": "stderr",
          "text": [
            "/usr/local/lib/python3.7/dist-packages/keras/optimizers/optimizer_v2/adam.py:110: UserWarning: The `lr` argument is deprecated, use `learning_rate` instead.\n",
            "  super(Adam, self).__init__(name, **kwargs)\n"
          ]
        }
      ]
    },
    {
      "cell_type": "code",
      "source": [
        "model.summary()"
      ],
      "metadata": {
        "colab": {
          "base_uri": "https://localhost:8080/"
        },
        "id": "c-_6i84rcoQo",
        "outputId": "f733c19f-8649-4d51-ace1-203f7ad4b294"
      },
      "execution_count": 54,
      "outputs": [
        {
          "output_type": "stream",
          "name": "stdout",
          "text": [
            "Model: \"model_1\"\n",
            "_________________________________________________________________\n",
            " Layer (type)                Output Shape              Param #   \n",
            "=================================================================\n",
            " input_2 (InputLayer)        [(None, 10, 1)]           0         \n",
            "                                                                 \n",
            " lstm_2 (LSTM)               (None, 10, 5)             140       \n",
            "                                                                 \n",
            " lstm_3 (LSTM)               (None, 7)                 364       \n",
            "                                                                 \n",
            " dense_1 (Dense)             (None, 1)                 8         \n",
            "                                                                 \n",
            "=================================================================\n",
            "Total params: 512\n",
            "Trainable params: 512\n",
            "Non-trainable params: 0\n",
            "_________________________________________________________________\n"
          ]
        }
      ]
    },
    {
      "cell_type": "code",
      "source": [
        "N = len(X)\n",
        "r = model.fit(\n",
        "    X[:N//2], Y[:N//2], \n",
        "    epochs=80, \n",
        "    validation_data=(X[-N//2:], Y[-N//2:])\n",
        ")"
      ],
      "metadata": {
        "colab": {
          "base_uri": "https://localhost:8080/"
        },
        "id": "oNNIaEc1c1jZ",
        "outputId": "a4534aa4-07cf-4175-e8b2-fad5c6e646bd"
      },
      "execution_count": null,
      "outputs": [
        {
          "output_type": "stream",
          "name": "stdout",
          "text": [
            "Epoch 1/80\n",
            "20/20 [==============================] - 9s 135ms/step - loss: 0.2016 - val_loss: 0.2436\n",
            "Epoch 2/80\n",
            "20/20 [==============================] - 0s 21ms/step - loss: 0.0228 - val_loss: 0.0702\n",
            "Epoch 3/80\n",
            "20/20 [==============================] - 0s 23ms/step - loss: 0.0088 - val_loss: 0.0602\n",
            "Epoch 4/80\n",
            "20/20 [==============================] - 0s 21ms/step - loss: 0.0092 - val_loss: 0.0428\n",
            "Epoch 5/80\n",
            "20/20 [==============================] - 0s 25ms/step - loss: 0.0093 - val_loss: 0.0664\n",
            "Epoch 6/80\n",
            "20/20 [==============================] - 1s 28ms/step - loss: 0.0158 - val_loss: 0.1658\n",
            "Epoch 7/80\n",
            "20/20 [==============================] - 1s 34ms/step - loss: 0.0140 - val_loss: 0.1062\n",
            "Epoch 8/80\n",
            "20/20 [==============================] - 0s 19ms/step - loss: 0.0087 - val_loss: 0.0528\n",
            "Epoch 9/80\n",
            "14/20 [====================>.........] - ETA: 0s - loss: 0.0075"
          ]
        }
      ]
    },
    {
      "cell_type": "code",
      "source": [
        "from matplotlib.pyplot import figure\n",
        "\n",
        "output = model.predict(X[N//2:])\n",
        "output[:, 0]\n",
        "plt.plot(Y[N//2:], label='Real Price')\n",
        "plt.plot(output[:, 0], label='Predict')\n",
        "plt.legend()\n",
        "plt.show()\n"
      ],
      "metadata": {
        "id": "EZdV_qC7hoWi"
      },
      "execution_count": null,
      "outputs": []
    },
    {
      "cell_type": "code",
      "source": [
        "np.sum((Y[N//2:] - output[:, 0]) * (Y[N//2:] - output[:, 0]))"
      ],
      "metadata": {
        "id": "BPsTqUz0ibUI"
      },
      "execution_count": null,
      "outputs": []
    },
    {
      "cell_type": "code",
      "source": [
        "results = model.evaluate(X[:N//2], Y[:N//2] )\n",
        "print(results)"
      ],
      "metadata": {
        "id": "hjhuD7ATbpL6"
      },
      "execution_count": null,
      "outputs": []
    },
    {
      "cell_type": "code",
      "source": [
        "plt.plot(r.history['val_loss'])"
      ],
      "metadata": {
        "id": "qguOFAMFsNEG"
      },
      "execution_count": null,
      "outputs": []
    },
    {
      "cell_type": "code",
      "source": [
        "trade = []\n",
        "for i in range(len(X)//2):\n",
        "  if(X[len(X)//2 + i][9][0] < Y[len(X)//2 + i]):\n",
        "    trade.append(1)\n",
        "  else:\n",
        "    trade.append(0)\n",
        "    "
      ],
      "metadata": {
        "id": "KV-k2tjtCs7E"
      },
      "execution_count": null,
      "outputs": []
    },
    {
      "cell_type": "code",
      "source": [
        "trade = np.array(trade)"
      ],
      "metadata": {
        "id": "j3R3eX6CGy-u"
      },
      "execution_count": null,
      "outputs": []
    },
    {
      "cell_type": "code",
      "source": [
        "predict_trade = []\n",
        "for i in range(len(X)//2):\n",
        "  if(X[len(X)//2 + i][9][0] < output[:, 0][i]):\n",
        "    predict_trade.append(1)\n",
        "  else: \n",
        "    predict_trade.append(0)"
      ],
      "metadata": {
        "id": "eXWhpkCrGHy5"
      },
      "execution_count": null,
      "outputs": []
    },
    {
      "cell_type": "code",
      "source": [
        "print(len(trade), len(predict_trade))"
      ],
      "metadata": {
        "id": "n7Shqr2MGl2o"
      },
      "execution_count": null,
      "outputs": []
    },
    {
      "cell_type": "code",
      "source": [
        "count = 0\n",
        "for i in range(len(trade)):\n",
        "  if(trade[i] == predict_trade[i]):\n",
        "    count += 1"
      ],
      "metadata": {
        "id": "ovCz6vLWJ1Ln"
      },
      "execution_count": null,
      "outputs": []
    },
    {
      "cell_type": "code",
      "source": [
        "count"
      ],
      "metadata": {
        "id": "Ei52d_1JKNVq"
      },
      "execution_count": null,
      "outputs": []
    },
    {
      "cell_type": "code",
      "source": [
        "327/624"
      ],
      "metadata": {
        "id": "f-liaMMXKOU7"
      },
      "execution_count": null,
      "outputs": []
    },
    {
      "cell_type": "code",
      "source": [
        "profit = 0\n",
        "\n",
        "for i in range(len(trade)):\n",
        "  if(predict_trade[i] == 1):\n",
        "    profit += Y[len(X)//2 + i] - X[len(X)//2 + i][9][0]\n"
      ],
      "metadata": {
        "id": "ttUPQSg-KTH7"
      },
      "execution_count": null,
      "outputs": []
    },
    {
      "cell_type": "code",
      "source": [
        "profit"
      ],
      "metadata": {
        "id": "0aoZUFsdPE0s"
      },
      "execution_count": null,
      "outputs": []
    },
    {
      "cell_type": "code",
      "source": [
        "  "
      ],
      "metadata": {
        "id": "XfupLWscPFl_"
      },
      "execution_count": null,
      "outputs": []
    },
    {
      "cell_type": "code",
      "source": [],
      "metadata": {
        "id": "x8Etfqiy01Lb"
      },
      "execution_count": null,
      "outputs": []
    }
  ]
}